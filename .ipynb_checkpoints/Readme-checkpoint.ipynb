{
 "cells": [
  {
   "cell_type": "markdown",
   "metadata": {},
   "source": [
    "# An Arduino Command Emulator (for Jupyter)\n",
    "\n",
    "I really wanted to have an interactive [Jupyter](https://jupyter.org/) environemnt in which I could play around interactivly with [Arduino](https://www.arduino.cc/) commands and when I discovered that Arduino provides a good starting point with their [ArduinoCore-API](https://github.com/arduino/ArduinoCore-API/tree/105276f8d81413391b14a3dc6c80180ee9e33d56) I started to draft this prototype.\n",
    "\n",
    "I am using [xeus-cling](https://github.com/jupyter-xeus/xeus-cling) as a runtime environment to simulate an Arduino Development board and I have added added the implenentation using C or the C++ std library.\n",
    "\n",
    "The goal is finally to be able to provide different alternative implementations\n",
    "- Using wiringPI to be run on a Raspberry PI\n",
    "- Output to a file from where it can be analysed\n",
    "- Using a Stream interface to comuincate with an real Arduino Device.\n",
    "- Using some standard Linux userspace APIs for GPIO\n",
    "\n",
    "I have a __first working prototype__ ready but naturally there is still a lot to do:\n",
    "\n",
    "## Content\n",
    "- [Setup](01-Setup.ipynb)\n",
    "- [Introduction into some Basic Commands](02-BasicCommands.ipynb)\n",
    "- [The Network Stack](03-Network.ipynb)"
   ]
  },
  {
   "cell_type": "code",
   "execution_count": null,
   "metadata": {},
   "outputs": [],
   "source": []
  }
 ],
 "metadata": {
  "kernelspec": {
   "display_name": "C++17",
   "language": "C++17",
   "name": "xcpp17"
  },
  "language_info": {
   "codemirror_mode": "text/x-c++src",
   "file_extension": ".cpp",
   "mimetype": "text/x-c++src",
   "name": "c++",
   "version": "17"
  }
 },
 "nbformat": 4,
 "nbformat_minor": 4
}
