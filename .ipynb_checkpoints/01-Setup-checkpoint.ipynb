{
 "cells": [
  {
   "cell_type": "markdown",
   "metadata": {},
   "source": [
    "## Setup\n",
    "Here is a quick overview how to install the environemnt.\n",
    "\n",
    "- First you need to [install Xeus/Cling](https://github.com/jupyter-xeus/xeus-cling).\n",
    "- Then you clone the project with git with the command ```git clone https://github.com/pschatzmann/Arduino-Emulator.git```\n",
    "\n",
    "- Finally you can build the project by executing the build bash script. You can overwrite the existing setup by adding the -f parameter"
   ]
  },
  {
   "cell_type": "code",
   "execution_count": null,
   "metadata": {},
   "outputs": [],
   "source": [
    "! ./build.sh -f"
   ]
  },
  {
   "cell_type": "code",
   "execution_count": null,
   "metadata": {},
   "outputs": [],
   "source": []
  }
 ],
 "metadata": {
  "kernelspec": {
   "display_name": "C++17",
   "language": "C++17",
   "name": "xcpp17"
  },
  "language_info": {
   "codemirror_mode": "text/x-c++src",
   "file_extension": ".cpp",
   "mimetype": "text/x-c++src",
   "name": "c++",
   "version": "17"
  }
 },
 "nbformat": 4,
 "nbformat_minor": 4
}
