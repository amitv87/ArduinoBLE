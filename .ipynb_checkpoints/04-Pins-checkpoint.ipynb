{
 "cells": [
  {
   "cell_type": "markdown",
   "metadata": {},
   "source": [
    "## Using Pins\n",
    "\n",
    "The final goal is to be able to provide different implementations:\n",
    "- Using a Stream interface to communicate with an real Arduino Device (e.g. via udp)\n",
    "- Using wiringPI to be run on a Raspberry PI\n",
    "- Output to a file from where it can be analysed\n",
    "- Using some standard Linux userspace APIs for GPIO\n",
    "\n",
    "So far I can show how this is working with the Stream interface. \n",
    "\n",
    "As in all examples we need to setup the environment first:"
   ]
  },
  {
   "cell_type": "code",
   "execution_count": 12,
   "metadata": {},
   "outputs": [],
   "source": [
    "#pragma cling add_include_path(\"ArduinoCore-API/api\")\n",
    "#pragma cling add_include_path(\"ArduinoCore-Linux/cores/arduino\")\n",
    "#pragma cling add_library_path(\"build\") \n",
    "#pragma cling load(\"libarduino_emulator\") "
   ]
  },
  {
   "cell_type": "markdown",
   "metadata": {},
   "source": [
    "Since different platforms are using differnt pin identifiers we need to include different __pins_arduino.h__ implementations. We can e.g. load the platform specific pin assignments for the ESP32:"
   ]
  },
  {
   "cell_type": "code",
   "execution_count": 13,
   "metadata": {},
   "outputs": [],
   "source": [
    "#pragma cling add_include_path(\"ArduinoCore-Linux/cores/esp32\")\n",
    "#include \"pins_arduino.h\""
   ]
  },
  {
   "cell_type": "code",
   "execution_count": 14,
   "metadata": {},
   "outputs": [
    {
     "name": "stdout",
     "output_type": "stream",
     "text": [
      "36"
     ]
    }
   ],
   "source": [
    "#include \"Arduino.h\"\n",
    "\n",
    "Serial.print(A0)"
   ]
  },
  {
   "cell_type": "code",
   "execution_count": 15,
   "metadata": {},
   "outputs": [
    {
     "name": "stdout",
     "output_type": "stream",
     "text": [
      "39"
     ]
    }
   ],
   "source": [
    "Serial.print(A3)"
   ]
  },
  {
   "cell_type": "markdown",
   "metadata": {},
   "source": [
    "In order to send out the pin commands via a Stream interface we need to do some additional setup. In the following example we show the setup how to send them out via UDP:"
   ]
  },
  {
   "cell_type": "code",
   "execution_count": 18,
   "metadata": {},
   "outputs": [],
   "source": [
    "#include \"HardwareSetup.h\"\n",
    "#include \"WiFiUDPStream.h\"\n",
    "\n",
    "IPAddress targetIP(192,168,1,35);\n",
    "WiFiUDPStream remoteStream(targetIP, 7000);\n",
    "HardwareSetup.begin(&remoteStream);"
   ]
  },
  {
   "cell_type": "markdown",
   "metadata": {},
   "source": [
    "And now we are ready to use the Arduino Pin commands:"
   ]
  },
  {
   "cell_type": "code",
   "execution_count": 17,
   "metadata": {},
   "outputs": [
    {
     "name": "stdout",
     "output_type": "stream",
     "text": [
      "new cycle\n",
      "new cycle\n",
      "new cycle\n",
      "new cycle\n",
      "new cycle\n",
      "new cycle\n",
      "new cycle\n",
      "new cycle\n",
      "new cycle\n",
      "new cycle\n",
      "new cycle\n",
      "new cycle\n",
      "new cycle\n",
      "new cycle\n",
      "new cycle\n",
      "new cycle\n",
      "new cycle\n",
      "new cycle\n",
      "new cycle\n",
      "new cycle\n"
     ]
    }
   ],
   "source": [
    "arduino::pinMode(13, OUTPUT);   \n",
    "\n",
    "for (int j=0;j<20;j++){\n",
    "    Serial.println(\"new cycle\");\n",
    "    arduino::digitalWrite(13, HIGH); \n",
    "    delay(1000);\n",
    "    arduino::digitalWrite(13, LOW); \n",
    "    delay(1000);\n",
    "}"
   ]
  },
  {
   "cell_type": "code",
   "execution_count": null,
   "metadata": {},
   "outputs": [],
   "source": []
  }
 ],
 "metadata": {
  "kernelspec": {
   "display_name": "C++17",
   "language": "C++17",
   "name": "xcpp17"
  },
  "language_info": {
   "codemirror_mode": "text/x-c++src",
   "file_extension": ".cpp",
   "mimetype": "text/x-c++src",
   "name": "c++",
   "version": "17"
  }
 },
 "nbformat": 4,
 "nbformat_minor": 4
}
