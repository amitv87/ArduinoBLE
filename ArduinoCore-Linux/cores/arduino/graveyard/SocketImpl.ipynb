{
 "cells": [
  {
   "cell_type": "code",
   "execution_count": 4,
   "metadata": {},
   "outputs": [],
   "source": [
    "#pragma cling add_include_path(\"/home/xeus-cling/Arduino/Arduino-Emulator/ArduinoCore-API/api\")\n",
    "#pragma cling add_include_path(\"/home/xeus-cling/Arduino/Arduino-Emulator/ArduinoCore-Linux/cores/arduino\")\n",
    "#pragma cling add_library_path(\"/home/xeus-cling/Arduino/Arduino-Emulator/build/\") \n",
    "#pragma cling load(\"libarduino_emulator\") "
   ]
  },
  {
   "cell_type": "code",
   "execution_count": 5,
   "metadata": {},
   "outputs": [
    {
     "name": "stdout",
     "output_type": "stream",
     "text": [
      "SocketImpl connected!\n"
     ]
    },
    {
     "data": {
      "text/plain": [
       "'0x01'"
      ]
     },
     "execution_count": 5,
     "metadata": {},
     "output_type": "execute_result"
    }
   ],
   "source": [
    "#include \"SocketImpl.h\"\n",
    "#include \"ArdStdio.h\"\n",
    "#include \"ArduinoLogger.h\"\n",
    "\n",
    "Logger.setLogger(Serial,Info);\n",
    "\n",
    "arduino::SocketImpl s;\n",
    "s.connect(\"134.209.234.6\", 80);\n",
    "s.connected()"
   ]
  },
  {
   "cell_type": "code",
   "execution_count": 6,
   "metadata": {},
   "outputs": [
    {
     "name": "stdout",
     "output_type": "stream",
     "text": [
      "SocketImpl write\n",
      "SocketImpl write\n",
      "SocketImpl available-> 0\n"
     ]
    },
    {
     "data": {
      "text/plain": [
       "0"
      ]
     },
     "execution_count": 6,
     "metadata": {},
     "output_type": "execute_result"
    }
   ],
   "source": [
    "s.write((uint8_t *)\"GET / HTTP/1.0\\n\",15);\n",
    "s.write((uint8_t *)\"\\n\",1);\n",
    "s.available()"
   ]
  },
  {
   "cell_type": "code",
   "execution_count": 7,
   "metadata": {},
   "outputs": [
    {
     "name": "stdout",
     "output_type": "stream",
     "text": [
      "SocketImpl available-> 371\n"
     ]
    },
    {
     "data": {
      "text/plain": [
       "371"
      ]
     },
     "execution_count": 7,
     "metadata": {},
     "output_type": "execute_result"
    }
   ],
   "source": [
    "s.available()"
   ]
  },
  {
   "cell_type": "code",
   "execution_count": 8,
   "metadata": {},
   "outputs": [
    {
     "data": {
      "text/plain": [
       "true"
      ]
     },
     "execution_count": 8,
     "metadata": {},
     "output_type": "execute_result"
    }
   ],
   "source": [
    "(bool)s.connected()"
   ]
  },
  {
   "cell_type": "code",
   "execution_count": 9,
   "metadata": {},
   "outputs": [
    {
     "name": "stdout",
     "output_type": "stream",
     "text": [
      "SocketImpl available-> 371\n"
     ]
    },
    {
     "data": {
      "text/plain": [
       "371"
      ]
     },
     "execution_count": 9,
     "metadata": {},
     "output_type": "execute_result"
    }
   ],
   "source": [
    "s.available()"
   ]
  },
  {
   "cell_type": "code",
   "execution_count": 10,
   "metadata": {},
   "outputs": [
    {
     "data": {
      "text/plain": [
       "true"
      ]
     },
     "execution_count": 10,
     "metadata": {},
     "output_type": "execute_result"
    }
   ],
   "source": [
    "s.connected()==true"
   ]
  },
  {
   "cell_type": "code",
   "execution_count": 11,
   "metadata": {},
   "outputs": [
    {
     "name": "stdout",
     "output_type": "stream",
     "text": [
      "SocketImpl available-> 371\n"
     ]
    },
    {
     "data": {
      "text/plain": [
       "371"
      ]
     },
     "execution_count": 11,
     "metadata": {},
     "output_type": "execute_result"
    }
   ],
   "source": [
    "s.available()"
   ]
  },
  {
   "cell_type": "code",
   "execution_count": 12,
   "metadata": {},
   "outputs": [
    {
     "name": "stdout",
     "output_type": "stream",
     "text": [
      "SocketImpl read-> 371\n"
     ]
    },
    {
     "data": {
      "text/plain": [
       "371"
      ]
     },
     "execution_count": 12,
     "metadata": {},
     "output_type": "execute_result"
    }
   ],
   "source": [
    "uint8_t str[500];\n",
    "s.read(str,500)\n"
   ]
  },
  {
   "cell_type": "code",
   "execution_count": 13,
   "metadata": {},
   "outputs": [
    {
     "data": {
      "text/plain": [
       "\"HTTP/1.1 301 Moved Permanently\r\n",
       "Server: nginx/1.17.6\r\n",
       "Date: Fri, 11 Dec 2020 06:48:46 GMT\r\n",
       "Content-Type: text/html\r\n",
       "Content-Length: 169\r\n",
       "Connection: close\r\n",
       "Location: https://software.pschatzmann.ch/\r\n",
       "\r\n",
       "<html>\r\n",
       "<head><title>301 Moved Permanently</title></head>\r\n",
       "<body>\r\n",
       "<center><h1>301 Moved Permanently</h1></center>\r\n",
       "<hr><center>nginx/1.17.6</center>\r\n",
       "</body>\r\n",
       "</html>\r\n",
       "\""
      ]
     },
     "execution_count": 13,
     "metadata": {},
     "output_type": "execute_result"
    }
   ],
   "source": [
    "(char*)str"
   ]
  },
  {
   "cell_type": "code",
   "execution_count": null,
   "metadata": {},
   "outputs": [],
   "source": []
  }
 ],
 "metadata": {
  "kernelspec": {
   "display_name": "C++17",
   "language": "C++17",
   "name": "xcpp17"
  },
  "language_info": {
   "codemirror_mode": "text/x-c++src",
   "file_extension": ".cpp",
   "mimetype": "text/x-c++src",
   "name": "c++",
   "version": "17"
  }
 },
 "nbformat": 4,
 "nbformat_minor": 4
}
