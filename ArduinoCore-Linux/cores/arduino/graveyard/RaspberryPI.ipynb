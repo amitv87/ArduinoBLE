{
 "cells": [
  {
   "cell_type": "markdown",
   "metadata": {},
   "source": [
    "# Raspberry PI\n",
    "\n",
    "## Cling\n",
    "We use cling from https://github.com/root-project/cling . You can find the following instructions:\n",
    "\n",
    "```\n",
    "wget https://raw.githubusercontent.com/root-project/cling/master/tools/packaging/cpt.py\n",
    "chmod +x cpt.py\n",
    "./cpt.py --check-requirements && ./cpt.py --create-dev-env Debug --with-workdir=./cling-build/\n",
    "```"
   ]
  },
  {
   "cell_type": "code",
   "execution_count": null,
   "metadata": {},
   "outputs": [],
   "source": []
  },
  {
   "cell_type": "code",
   "execution_count": null,
   "metadata": {},
   "outputs": [],
   "source": []
  }
 ],
 "metadata": {
  "kernelspec": {
   "display_name": "C++17",
   "language": "C++17",
   "name": "xcpp17"
  },
  "language_info": {
   "codemirror_mode": "text/x-c++src",
   "file_extension": ".cpp",
   "mimetype": "text/x-c++src",
   "name": "c++",
   "version": "17"
  }
 },
 "nbformat": 4,
 "nbformat_minor": 4
}
