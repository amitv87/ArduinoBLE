{
 "cells": [
  {
   "cell_type": "markdown",
   "metadata": {},
   "source": [
    "# TinyFTPClient\n",
    "\n",
    "I have changed my FTPClient to a header only library. \n",
    "\n",
    "So let's check if we can use it in the Emulator?"
   ]
  },
  {
   "cell_type": "code",
   "execution_count": 1,
   "metadata": {},
   "outputs": [],
   "source": [
    "#pragma cling add_include_path(\"ArduinoCore-API/api\")\n",
    "#pragma cling add_include_path(\"ArduinoCore-Linux/cores/arduino\")\n",
    "#pragma cling add_library_path(\"build\") \n",
    "#pragma cling load(\"libarduino_emulator\") "
   ]
  },
  {
   "cell_type": "markdown",
   "metadata": {},
   "source": [
    "For the sake of completness we setup the Wifi"
   ]
  },
  {
   "cell_type": "code",
   "execution_count": 2,
   "metadata": {},
   "outputs": [],
   "source": [
    "#pragma cling add_include_path(\"ArduinoCore-Linux/libraries/TinyFTPClient\")\n"
   ]
  },
  {
   "cell_type": "code",
   "execution_count": 3,
   "metadata": {},
   "outputs": [],
   "source": [
    "#include \"Arduino.h\"\n",
    "#include \"WiFi.h\"\n",
    "#include \"TinyFTPClient.h\"\n",
    "\n",
    "FTPClient client;\n",
    "FTPLogger.setLogger(Serial, LOG_DEBUG);\n",
    "Logger.setLogger(Serial, Logger.Info);\n"
   ]
  },
  {
   "cell_type": "code",
   "execution_count": 4,
   "metadata": {},
   "outputs": [
    {
     "name": "stdout",
     "output_type": "stream",
     "text": [
      "SocketImpl getIPAddress\n",
      "SocketImpl getIPAddress-1\n",
      "\n",
      "Started with address 172.22.0.2\n",
      "FTP INFO - FTPClient begin\n",
      "EthernetClient connect\n",
      "SocketImpl connected!\n",
      "EthernetClient connect\n",
      "SocketImpl connected!\n",
      "FTP INFO - FTPClient ls\n",
      "$\n",
      "/bin\n",
      "/boot\n",
      "/cdrom\n",
      "/core\n",
      "/data\n",
      "/dev\n",
      "/etc\n",
      "/export\n",
      "/glusterfs\n",
      "/home\n",
      "/initrd.img\n",
      "/initrd.img.old\n",
      "/lib\n",
      "/lib64\n",
      "/lost+found\n",
      "/media\n",
      "/mnt\n",
      "/opt\n",
      "/proc\n",
      "/root\n",
      "/run\n",
      "/sbin\n",
      "/snap\n",
      "/srv\n",
      "/swapfile1\n",
      "/sys\n",
      "/tmp\n",
      "/usr\n",
      "/var\n",
      "/vmlinuz\n",
      "/vmlinuz.old\n",
      "/webmin-setup.out\n"
     ]
    }
   ],
   "source": [
    "\n",
    "void setup() {\n",
    "    Serial.begin(115200);\n",
    "\n",
    "    // connect to WIFI\n",
    "    WiFi.begin(\"network name\", \"password\");\n",
    "    while (WiFi.status() != WL_CONNECTED) {\n",
    "      delay(500);\n",
    "      Serial.print(\".\");\n",
    "    }\n",
    "\n",
    "    IPAddress localAddress = WiFi.localIP();\n",
    "    Serial.println();\n",
    "    Serial.print(\"Started with address \");\n",
    "    Serial.println(localAddress);\n",
    "\n",
    "    // optional logging\n",
    "    FTPLogger.setLogger(Serial, LOG_INFO);\n",
    "\n",
    "    // open connection\n",
    "    client.begin(IPAddress(192,168,1,10), \"pschatzmann\", \"sabrina1\");\n",
    "\n",
    "    FTPFileIterator it = client.ls(\"/\");\n",
    "    for (auto fileIt = it.begin(); fileIt != it.end(); fileIt++)  {\n",
    "        FTPFile file = *fileIt;\n",
    "        Serial.println(file.name());\n",
    "    }\n",
    "    \n",
    "    // clenaup\n",
    "    //client.end();\n",
    "}\n",
    "\n",
    "setup();\n"
   ]
  },
  {
   "cell_type": "code",
   "execution_count": null,
   "metadata": {},
   "outputs": [],
   "source": []
  }
 ],
 "metadata": {
  "kernelspec": {
   "display_name": "C++17",
   "language": "C++17",
   "name": "xcpp17"
  },
  "language_info": {
   "codemirror_mode": "text/x-c++src",
   "file_extension": ".cpp",
   "mimetype": "text/x-c++src",
   "name": "c++",
   "version": "17"
  }
 },
 "nbformat": 4,
 "nbformat_minor": 4
}
